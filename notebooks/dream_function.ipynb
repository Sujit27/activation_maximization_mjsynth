{
 "cells": [
  {
   "cell_type": "code",
   "execution_count": 22,
   "metadata": {},
   "outputs": [],
   "source": [
    "import sys\n",
    "sys.path.append(\"../\")\n",
    "import os"
   ]
  },
  {
   "cell_type": "code",
   "execution_count": 23,
   "metadata": {},
   "outputs": [],
   "source": [
    "from library.deep_dream import *\n",
    "from library.dict_network.dict_net import *\n",
    "import matplotlib.pyplot as plt\n",
    "from matplotlib.pyplot import figure\n",
    "import cv2"
   ]
  },
  {
   "cell_type": "code",
   "execution_count": 24,
   "metadata": {},
   "outputs": [],
   "source": [
    "def createInputImage():\n",
    "    input_size = (32,128)\n",
    "    zeroImage_np = np.random.random(input_size)*255\n",
    "    zeroImage = Image.fromarray((zeroImage_np).astype('uint8'),'L')\n",
    "    \n",
    "    return zeroImage"
   ]
  },
  {
   "cell_type": "code",
   "execution_count": 25,
   "metadata": {},
   "outputs": [],
   "source": [
    "def prepInputImage(inputImage):\n",
    "    preprocess = transforms.Compose([\n",
    "    transforms.Grayscale(),\n",
    "    transforms.ToTensor(),\n",
    "    transforms.Normalize((0.47,),(0.14,))\n",
    "    ])\n",
    "\n",
    "    return preprocess(inputImage)"
   ]
  },
  {
   "cell_type": "code",
   "execution_count": 26,
   "metadata": {},
   "outputs": [],
   "source": [
    "def setGaussianFilter(kernelSize=3,sigma=0.5):\n",
    "\n",
    "    # Create a x, y coordinate grid of shape (kernelSize, kernelSize, 2)\n",
    "    x_cord = torch.arange(kernelSize)\n",
    "    x_grid = x_cord.repeat(kernelSize).view(kernelSize, kernelSize)\n",
    "    y_grid = x_grid.t()\n",
    "    xy_grid = torch.stack([x_grid, y_grid], dim=-1)\n",
    "    xy_grid = xy_grid.float()\n",
    "\n",
    "    mean = (kernelSize - 1)/2.\n",
    "    variance = sigma**2.\n",
    "\n",
    "\n",
    "    # Calculate the 2-dimensional gaussian kernel which is\n",
    "    # the product of two gaussian distributions for two different\n",
    "    # variables (in this case called x and y)\n",
    "    gaussian_kernel = (1./(2.*math.pi*variance)) * torch.exp(-torch.sum((xy_grid - mean)**2., dim=-1) /(2*variance))\n",
    "    # Make sure sum of values in gaussian kernel equals 1.\n",
    "    gaussian_kernel = gaussian_kernel / torch.sum(gaussian_kernel)\n",
    "\n",
    "    # Reshape to 2d depthwise convolutional weight\n",
    "    gaussian_kernel = gaussian_kernel.view(1, 1, kernelSize, kernelSize)\n",
    "#             gaussian_kernel = gaussian_kernel.repeat(3, 1, 1, 1)\n",
    "\n",
    "    pad = math.floor(kernelSize/2)\n",
    "\n",
    "    gauss_filter = nn.Conv2d(in_channels=1, out_channels=1,padding=pad,\n",
    "                        kernel_size=kernelSize, groups=1, bias=False)\n",
    "\n",
    "    gauss_filter.weight.data = gaussian_kernel\n",
    "    gauss_filter.weight.requires_grad = False\n",
    "\n",
    "    return gauss_filter"
   ]
  },
  {
   "cell_type": "code",
   "execution_count": 27,
   "metadata": {},
   "outputs": [],
   "source": [
    "def postProcess(image):\n",
    "    image_tensor = torch.squeeze(image.data) # remove the batch dimension   \n",
    "    image_tensor = image_tensor*0.14 + 0.47 # std and mean for mjsynth \n",
    "    image_tensor = image_tensor.cpu() # back to host\n",
    "\n",
    "    img = Image.fromarray((image_tensor.data.numpy()*255).astype('uint8'), 'L') #torch tensor to PIL image_tensor\n",
    "\n",
    "    return img"
   ]
  },
  {
   "cell_type": "code",
   "execution_count": 28,
   "metadata": {},
   "outputs": [],
   "source": [
    "gaussian_filter = setGaussianFilter()"
   ]
  },
  {
   "cell_type": "markdown",
   "metadata": {},
   "source": [
    "**Loss type 1 : out[label]**\n",
    "**Loss type_2 : log(softmax(out)[label])**\n",
    "**Loss type_3 : log(sigmoid(out)[label])**"
   ]
  },
  {
   "cell_type": "code",
   "execution_count": 29,
   "metadata": {},
   "outputs": [],
   "source": [
    "def dream(net,label,nItr,loss_type=1,lr=0.1,g_filter=True):\n",
    "    im = createInputImage()\n",
    "    im = prepInputImage(im)\n",
    "    im = Variable(im.unsqueeze(0),requires_grad=True)\n",
    "    \n",
    "    net.eval()\n",
    "    prob = F.softmax(net(im),dim=1)[0,label]\n",
    "    print(\"Probablity of correct label given random image: \",prob.item())\n",
    "    for i in range(nItr):\n",
    "        out = net(im)\n",
    "        if loss_type == 1:\n",
    "            loss = out[0,label]\n",
    "        elif loss_type == 2:\n",
    "            loss = torch.log(F.softmax(out,dim=1)[0,label])\n",
    "        elif loss_type == 3:\n",
    "            loss = torch.log(torch.sigmoid(out)[0,label])\n",
    "        else:\n",
    "            print(\"Loss type not recognized\")\n",
    "            return 0\n",
    "                \n",
    "        loss.backward()\n",
    "#         print(\"F norm of gradient :\", torch.norm(im.grad.data,p='fro'))\n",
    "        im.data += lr * im.grad.data\n",
    "        im.data = torch.clamp(im.data,-1,1)\n",
    "        \n",
    "        if g_filter==True:\n",
    "            im.data = gaussian_filter(im.data)\n",
    "        \n",
    "        im.grad.data.zero_()\n",
    "    \n",
    "    prob = F.softmax(net(im),dim=1)[0,label]\n",
    "    print(\"Probablity of correct label given random image: \",prob.item())\n",
    "    return im"
   ]
  },
  {
   "cell_type": "code",
   "execution_count": 30,
   "metadata": {},
   "outputs": [
    {
     "data": {
      "text/plain": [
       "<All keys matched successfully>"
      ]
     },
     "execution_count": 30,
     "metadata": {},
     "output_type": "execute_result"
    }
   ],
   "source": [
    "net = DictNet(1000)\n",
    "net.load_state_dict(torch.load(\"../code/train_dict_network/out5/net_1000_0.001_200_0.0.pth\",map_location=torch.device('cpu')))"
   ]
  },
  {
   "cell_type": "code",
   "execution_count": 31,
   "metadata": {},
   "outputs": [
    {
     "name": "stdout",
     "output_type": "stream",
     "text": [
      "Probablity of correct label given random image:  9.422208790965669e-08\n",
      "Probablity of correct label given random image:  1.0\n",
      "unfix_activation.png saved \n",
      "Probablity of correct label given random image:  1.0606801197354798e-06\n",
      "Probablity of correct label given random image:  0.9549229741096497\n",
      "unfix_log_softmax.png saved \n",
      "Probablity of correct label given random image:  1.6513338323420612e-06\n",
      "Probablity of correct label given random image:  0.9934980869293213\n",
      "unfix_log_sigmoid.png saved \n",
      "Probablity of correct label given random image:  7.928912236820906e-05\n",
      "Probablity of correct label given random image:  1.0\n",
      "pluck_activation.png saved \n",
      "Probablity of correct label given random image:  8.628621372963607e-09\n",
      "Probablity of correct label given random image:  0.9583163857460022\n",
      "pluck_log_softmax.png saved \n",
      "Probablity of correct label given random image:  2.383078708589892e-06\n",
      "Probablity of correct label given random image:  0.9916452765464783\n",
      "pluck_log_sigmoid.png saved \n",
      "Probablity of correct label given random image:  2.0415646950766586e-09\n",
      "Probablity of correct label given random image:  1.0\n",
      "toked_activation.png saved \n",
      "Probablity of correct label given random image:  4.801149477984268e-10\n",
      "Probablity of correct label given random image:  0.945371687412262\n",
      "toked_log_softmax.png saved \n",
      "Probablity of correct label given random image:  9.932183964167507e-10\n",
      "Probablity of correct label given random image:  0.9655682444572449\n",
      "toked_log_sigmoid.png saved \n",
      "Probablity of correct label given random image:  1.768687626912957e-11\n",
      "Probablity of correct label given random image:  1.0\n",
      "brawl_activation.png saved \n",
      "Probablity of correct label given random image:  8.25119226416371e-12\n",
      "Probablity of correct label given random image:  0.9599103927612305\n",
      "brawl_log_softmax.png saved \n",
      "Probablity of correct label given random image:  6.280965331173505e-11\n",
      "Probablity of correct label given random image:  0.9501396417617798\n",
      "brawl_log_sigmoid.png saved \n"
     ]
    }
   ],
   "source": [
    "labels = {0:\"unfix\",1:\"pluck\",2:\"toked\",3:\"brawl\"}\n",
    "loss_types = {1:\"activation\",2:\"log_softmax\",3:\"log_sigmoid\"}\n",
    "for label_num, label_word in labels.items():\n",
    "    for loss_num,loss_string in loss_types.items():\n",
    "        img = dream(net,label=label_num,nItr=100,loss_type=loss_num,g_filter=True) # word 'unfix'\n",
    "        img_pil = postProcess(img)\n",
    "        file_name = label_word+\"_\"+loss_string+\".png\"\n",
    "        img_pil.save(file_name)\n",
    "        print(\"{} saved \".format(file_name))"
   ]
  },
  {
   "cell_type": "code",
   "execution_count": 32,
   "metadata": {},
   "outputs": [],
   "source": [
    "# img = dream(net,label=1,nItr=100,g_filter=True) # word 'pluck'\n",
    "# img_pil = postProcess(img)\n",
    "# show(img_pil)"
   ]
  },
  {
   "cell_type": "code",
   "execution_count": 33,
   "metadata": {},
   "outputs": [],
   "source": [
    "# img = dream(net,label=2,nItr=100,g_filter=True) # word 'toked'\n",
    "# img_pil = postProcess(img)\n",
    "# show(img_pil)"
   ]
  },
  {
   "cell_type": "code",
   "execution_count": 34,
   "metadata": {},
   "outputs": [],
   "source": [
    "# img = dream(net,label=3,nItr=100,g_filter=True) # word 'brawl'\n",
    "# img_pil = postProcess(img)\n",
    "# show(img_pil)"
   ]
  },
  {
   "cell_type": "code",
   "execution_count": 35,
   "metadata": {},
   "outputs": [],
   "source": [
    "# img"
   ]
  },
  {
   "cell_type": "code",
   "execution_count": 36,
   "metadata": {},
   "outputs": [],
   "source": [
    "# torch.max(img)"
   ]
  },
  {
   "cell_type": "code",
   "execution_count": null,
   "metadata": {},
   "outputs": [],
   "source": []
  }
 ],
 "metadata": {
  "kernelspec": {
   "display_name": "Python 3",
   "language": "python",
   "name": "python3"
  },
  "language_info": {
   "codemirror_mode": {
    "name": "ipython",
    "version": 3
   },
   "file_extension": ".py",
   "mimetype": "text/x-python",
   "name": "python",
   "nbconvert_exporter": "python",
   "pygments_lexer": "ipython3",
   "version": "3.5.3"
  }
 },
 "nbformat": 4,
 "nbformat_minor": 4
}
