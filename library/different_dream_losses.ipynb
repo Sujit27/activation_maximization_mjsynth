{
 "cells": [
  {
   "cell_type": "code",
   "execution_count": 1,
   "metadata": {},
   "outputs": [],
   "source": [
    "from deep_dream import *"
   ]
  },
  {
   "cell_type": "code",
   "execution_count": 2,
   "metadata": {},
   "outputs": [],
   "source": [
    "net = DictNet(1000)"
   ]
  },
  {
   "cell_type": "code",
   "execution_count": 3,
   "metadata": {},
   "outputs": [
    {
     "data": {
      "text/plain": [
       "<All keys matched successfully>"
      ]
     },
     "execution_count": 3,
     "metadata": {},
     "output_type": "execute_result"
    }
   ],
   "source": [
    "net.load_state_dict(torch.load(\"../models/net_1000_0.001_200_0.0.pth\",map_location=torch.device('cpu')))"
   ]
  },
  {
   "cell_type": "code",
   "execution_count": 4,
   "metadata": {},
   "outputs": [],
   "source": [
    "def show_dream(dreamer,label,loss_type):\n",
    "    im,val = dreamer(label=label,loss_type=loss_type)\n",
    "    im = dreamer.postProcess(im)\n",
    "    dreamer.show(im)"
   ]
  },
  {
   "cell_type": "code",
   "execution_count": 5,
   "metadata": {},
   "outputs": [],
   "source": [
    "dreamer = DeepDream(net,(1,32,128),(0.47,),(0.14,),use_gaussian_filter=True)\n",
    "label = 3"
   ]
  },
  {
   "cell_type": "code",
   "execution_count": 6,
   "metadata": {},
   "outputs": [
    {
     "name": "stdout",
     "output_type": "stream",
     "text": [
      "tensor([[-21.7093, -25.8692, -29.2235, -26.6374, -37.0795, -24.0299, -20.8118,\n",
      "         -28.7853, -29.5261, -32.8881, -29.0520, -15.1690, -28.5440, -21.0959,\n",
      "         -27.6059, -13.4245, -25.1284, -19.1489, -31.4759, -29.9176, -18.5119,\n",
      "         -25.5877, -36.6051, -27.9708, -35.7038, -25.0429, -14.6998, -15.8214,\n",
      "         -17.3824, -37.8268, -28.6751, -18.3680, -32.3695, -26.9420, -35.0536,\n",
      "         -31.3421, -29.3781, -29.8628, -26.4262, -18.8047, -26.9578, -24.3636,\n",
      "         -29.4546, -27.3745, -19.9931, -16.9902, -26.2951, -17.6536, -20.2599,\n",
      "         -30.6868, -30.3149, -34.6923, -25.8897, -40.8149, -34.2296, -27.6073,\n",
      "         -27.6312,  -6.1634, -20.9652, -34.9200, -16.8543, -25.5511, -30.8833,\n",
      "         -24.0516, -37.7699, -29.2652, -26.1539, -23.0885, -24.3979, -17.1478,\n",
      "         -32.0797, -28.7284, -28.8490, -16.9850, -28.9012, -32.3533, -32.6370,\n",
      "         -30.2274, -26.1341, -28.9525, -32.1502, -16.2662, -36.6022, -26.8332,\n",
      "         -29.6360, -37.7484, -28.4498, -31.6884, -21.4640, -25.9140, -25.5954,\n",
      "         -26.8850, -15.6387, -33.4972,  -5.9060, -25.1928, -20.6109, -24.1350,\n",
      "         -19.5971, -32.3242, -25.4170, -25.2638, -34.6419, -27.6189,  -7.6141,\n",
      "         -19.5724, -21.0576, -24.4085, -29.9457, -21.6788, -22.6829, -29.3999,\n",
      "         -19.8855, -23.8951, -20.2731, -32.4196, -11.2399, -30.5796, -26.7349,\n",
      "         -19.5349, -40.7551, -28.5612, -16.7297, -23.8191, -27.5557, -28.3258,\n",
      "         -22.0787, -18.9244, -25.9077, -18.8899, -22.2300, -24.9437, -17.1959,\n",
      "         -26.2031, -25.4888, -17.8378, -26.1726, -14.3529, -30.9416, -22.6065,\n",
      "         -29.9897, -13.3356,  -7.5320, -25.8978, -26.0775, -25.6080, -23.0322,\n",
      "         -28.0163, -18.5345, -25.3798, -23.2268, -24.8577, -24.0868, -28.2912,\n",
      "         -21.6046, -23.4695, -35.3582, -17.0317, -22.7046, -38.6802, -16.9532,\n",
      "         -14.8260, -25.3716, -24.5494, -30.4849, -30.2576, -26.0515, -35.9040,\n",
      "         -14.3172, -27.7424, -31.8869, -19.5127, -29.1602, -32.0369, -28.2154,\n",
      "         -33.2984, -33.1274, -29.7657, -23.4670, -31.4599, -19.1311, -14.9634,\n",
      "         -16.8116, -30.8691, -15.5897, -16.8937, -19.9225, -27.3263, -35.2011,\n",
      "         -32.1971, -12.0912, -25.2972, -14.7969, -26.8331, -35.1581, -25.4979,\n",
      "         -30.6489, -16.5492, -27.1123, -28.3725, -23.2829, -23.4261, -25.3765,\n",
      "         -30.7768, -27.7235, -23.3680, -15.6123, -19.6946, -23.5012, -31.3573,\n",
      "         -39.2933, -13.9628, -28.3781, -27.1443, -26.9771, -25.9387, -30.0184,\n",
      "         -31.2629, -32.7896, -14.3492, -35.3497, -40.0344, -37.2758, -29.9394,\n",
      "         -24.8465, -19.9536, -26.5640,  -8.9107, -13.3256, -21.0567, -25.7399,\n",
      "         -16.6104, -31.4546, -14.0628, -20.1213, -32.6375, -30.0477, -35.0331,\n",
      "         -26.4646, -33.7199, -28.1917, -26.1543, -37.3391, -32.2720, -24.8893,\n",
      "         -22.7638, -21.5518, -22.6416, -33.7122, -13.0227, -24.1678, -21.0850,\n",
      "         -16.9882, -18.7387, -20.7335, -34.0814, -25.6627, -32.3557, -24.2321,\n",
      "         -35.9109, -27.1000,  -5.6771, -37.0794, -27.3120, -27.5289, -27.3670,\n",
      "         -23.2494, -19.0504, -23.3572, -36.8122, -21.6739, -27.0417, -29.0677,\n",
      "         -27.7829, -37.2927, -21.5742, -27.4246, -23.3730, -13.2401, -25.3453,\n",
      "         -15.0290, -28.0976, -23.1246, -33.5385, -34.8722, -27.5756, -24.7270,\n",
      "         -24.4933, -26.2929, -36.5199, -23.6776, -32.7869, -25.6506, -25.2905,\n",
      "         -29.6589, -25.0744, -22.5294, -14.5986, -21.3775, -37.9589, -32.0024,\n",
      "         -16.5393, -21.0388, -29.8219, -33.7376, -29.1345, -26.1998, -37.1558,\n",
      "         -20.9588, -27.1160, -28.0467, -24.0153, -32.1637, -15.4311, -18.1568,\n",
      "         -37.2711, -19.8886, -22.5813, -20.5642, -20.9000, -29.5687, -27.2367,\n",
      "         -18.2588, -35.2548, -23.9217, -24.3547, -13.8228, -28.1228, -31.0247,\n",
      "         -16.8539, -30.2366, -38.5001, -27.0652, -25.4473,  -9.3073,  -8.6954,\n",
      "         -22.5500, -12.4143, -17.4963, -29.5927, -16.8106, -32.0380, -30.6400,\n",
      "         -22.5983, -31.1690, -26.6425, -26.1910, -26.6094, -15.7645, -25.1693,\n",
      "         -16.5472, -27.7377, -21.3855, -32.3387, -13.9637, -25.7665, -35.1811,\n",
      "         -29.3955, -29.8539, -25.6092, -33.8219,  -7.0578, -42.6474, -18.3749,\n",
      "         -25.0517, -19.8347, -26.6494, -31.7970, -14.4561, -26.1827, -33.7383,\n",
      "         -30.2018, -33.4250, -35.8228, -23.1039, -22.7578, -28.2190, -30.0092,\n",
      "         -24.0013, -30.5382, -21.7005, -25.7162, -41.1527, -15.4487, -29.0253,\n",
      "         -19.7034, -22.7158, -18.5772, -22.3317, -15.7183, -13.0073, -21.0115,\n",
      "         -16.7990, -24.9871, -27.8399, -25.4259, -13.5738, -23.7378, -20.7313,\n",
      "         -27.2092, -22.5821, -27.0013, -26.6078, -26.9319, -17.4551, -32.0715,\n",
      "         -29.1327, -22.1942, -25.7236, -31.0034, -28.5116, -29.6688, -17.2747,\n",
      "         -16.2106, -31.5092, -22.5097, -22.5335, -22.6107, -12.3426, -30.0820,\n",
      "         -17.5112, -29.7568, -29.9523, -26.1374, -26.5109, -16.6135, -31.6001,\n",
      "         -24.0945, -25.4317, -19.5875, -30.9820, -15.2122, -29.7849, -19.4662,\n",
      "         -17.8975, -27.4595, -28.4943, -15.3327, -20.2097, -32.4069, -16.9446,\n",
      "         -25.7419, -17.7950, -19.8762, -27.2327, -23.8853, -28.0634, -24.5123,\n",
      "         -30.6916, -23.1899, -18.4102, -23.6975, -26.4394, -36.2348, -13.8165,\n",
      "         -22.3497, -17.5791, -33.1078, -35.5636, -16.8166, -29.3581, -32.5841,\n",
      "         -27.0089, -30.3434, -30.1277, -17.5886, -19.7854, -33.1390, -27.2013,\n",
      "         -22.0671, -34.4438, -24.5388, -23.6245, -36.2900, -28.9065, -39.6415,\n",
      "         -24.2254, -31.5928, -23.5255, -37.3199, -24.8085, -37.8538, -28.6529,\n",
      "         -35.9550, -14.5852, -26.1575, -27.9607, -26.2954, -34.2161, -18.3594,\n",
      "         -18.5110, -35.2102, -19.8183, -35.6466, -27.0909, -29.5764, -23.6317,\n",
      "         -19.9628, -29.9565, -20.2814, -19.9145, -28.2078, -29.0523, -26.0776,\n",
      "         -27.5105, -30.1070, -27.2322, -35.0575, -28.1720, -11.6549, -27.4334,\n",
      "         -16.6545, -27.5543, -17.7573, -23.8967, -23.7280, -11.0738, -20.4853,\n",
      "         -15.7452, -17.7270, -16.8839, -25.5930, -31.7842, -32.3024, -20.1132,\n",
      "         -34.2139, -19.2753, -16.1325, -25.1864, -26.2062, -15.1891, -29.5190,\n",
      "         -21.5721, -19.6365, -20.8271, -30.6597, -20.5106, -20.3060, -25.5352,\n",
      "         -27.6984, -20.1157, -28.1267, -19.9030, -13.0327, -33.8086, -23.1766,\n",
      "         -32.7360, -25.7572, -23.6242, -36.8964, -12.5263, -14.3868, -15.6397,\n",
      "         -31.9561, -21.7388, -24.1618, -27.7474, -11.0594, -25.0785, -20.1217,\n",
      "         -23.5991, -30.9180, -31.6351, -18.9802, -26.8245, -23.0588, -19.1882,\n",
      "         -31.2089, -20.7640, -28.1908, -22.0514, -27.8396, -16.9093, -17.7936,\n",
      "         -33.3417, -29.8534, -21.4559, -32.1091, -18.9133, -26.1620, -24.7722,\n",
      "         -35.4547, -22.9765, -22.9355, -27.6653, -12.7863, -35.6167, -13.4246,\n",
      "         -20.4344, -29.0739, -17.9019, -33.4481, -28.1000, -19.7924, -29.7854,\n",
      "         -19.1101, -26.3620, -28.5566, -29.0135, -31.9394, -27.6576, -36.4721,\n",
      "         -28.4070, -16.8441, -25.1363, -16.7268, -36.6197, -37.0311, -29.3800,\n",
      "         -29.9192, -38.1000, -18.1625, -27.4813,  -6.7936, -36.6908, -23.1691,\n",
      "         -31.2858, -21.7539, -20.7026, -27.4218, -22.7732, -13.3772, -20.7135,\n",
      "         -23.0574, -32.8968, -27.0728, -35.4170, -29.3734, -28.2573, -18.4814,\n",
      "         -30.9828, -16.1394, -34.4237, -34.2123, -23.6859, -13.4629, -25.5019,\n",
      "         -32.8865, -15.8681, -35.3050, -28.6328, -30.0170, -22.3143, -23.7050,\n",
      "         -30.2536, -27.9305, -16.1562, -32.2685, -16.8094, -19.4636, -20.9390,\n",
      "         -18.3436, -28.4024, -29.5517, -26.9766, -26.3891, -28.2024, -17.3536,\n",
      "         -27.9010, -30.6422, -29.1107, -22.2316, -30.8864, -14.1956, -24.3169,\n",
      "         -26.6357, -45.5640, -39.2333, -40.8412, -25.6320, -22.4163, -22.5984,\n",
      "         -18.7791, -19.0566, -22.5115, -22.8060, -28.9623, -27.1978,  -7.4711,\n",
      "         -18.6875, -15.1430, -21.5904, -11.1545, -15.6644, -30.9060, -25.0271,\n",
      "         -34.6216, -18.5160, -23.7909, -16.4389, -23.0182, -28.2123, -37.0382,\n",
      "         -20.2887, -27.0603, -32.0875, -18.0295, -10.2497, -14.5766, -30.4286,\n",
      "         -32.8009, -28.6724, -29.0536, -26.4464, -17.1014, -21.9090, -23.7860,\n",
      "         -17.8722, -32.1581, -26.9978, -19.4109, -24.8774, -25.8370, -29.3964,\n",
      "         -27.2851, -17.3403, -19.1807, -25.7634, -28.2122, -33.7995, -29.2868,\n",
      "         -40.8864, -36.7660, -28.2024, -32.4769, -29.9037, -21.1584, -37.7764,\n",
      "         -31.4190, -29.5197, -23.9806, -28.1756, -26.1452, -23.8649, -29.2205,\n",
      "         -25.1436, -20.6850, -21.4482, -33.5456, -23.2442, -22.2611, -10.1172,\n",
      "         -17.2670, -31.7347, -26.2111, -25.5134, -28.1102, -27.2112,  -8.9169,\n",
      "         -25.3306, -32.9099, -26.6094, -21.5975, -25.7511, -23.6066, -33.5486,\n",
      "         -27.7836, -17.8552, -26.6633, -31.9734, -30.6571, -24.9357, -33.5149,\n",
      "         -28.7538, -24.7476, -24.8778, -33.1421, -37.7110, -23.8598, -22.0305,\n",
      "         -11.1026, -25.1220, -30.2581, -29.0554, -19.7596, -28.8018, -32.4785,\n",
      "         -13.6825,  -9.7738, -25.1812, -23.9012, -23.8569, -22.7902,  -6.8412,\n",
      "         -25.0379, -32.7120, -19.9973, -13.9873, -27.7528, -28.6830, -25.3006,\n",
      "         -24.0337, -28.7417, -32.0408, -24.0927, -23.5558, -18.4203, -29.0325,\n",
      "         -14.8972, -23.3256, -20.0648, -21.3429, -28.1488, -28.7332, -20.3593,\n",
      "         -31.5801, -24.7374, -20.7477, -27.8709, -28.8046, -15.6060, -30.3423,\n",
      "         -25.6910, -28.0047, -29.2008, -14.2321, -22.3774, -23.7493, -21.4302,\n",
      "         -32.4279, -17.4140, -20.1982, -33.3052, -18.3515, -25.3596, -21.0757,\n",
      "         -25.9272, -37.4057, -31.2966, -22.9985, -33.1008, -17.2841, -32.3499,\n",
      "         -21.1250, -29.3042, -29.1623, -33.8583, -30.1871, -29.8598, -30.3059,\n",
      "         -19.6349, -25.5044, -26.9634, -30.7608, -43.4193, -20.7607, -32.2617,\n",
      "         -37.2660, -36.1241, -28.6187, -16.2649, -26.5762, -15.8341, -27.1746,\n",
      "         -18.2759, -27.2382, -14.9658, -24.9112, -26.5295, -24.4545, -12.3342,\n",
      "         -24.6042, -30.2149, -25.9485, -13.4817, -23.9930, -14.7427, -19.0197,\n",
      "         -29.1454, -22.0040, -25.8852, -19.7667, -14.2253, -21.9360, -26.6349,\n",
      "         -22.2430, -28.8354, -26.8824, -26.8064, -23.1081, -25.1467, -30.5464,\n",
      "         -28.7729, -31.0077, -28.6472, -35.9795, -26.9545, -28.3680, -29.7796,\n",
      "         -30.6052, -41.6900, -25.5558, -32.2722, -32.2849, -26.8541, -26.2749,\n",
      "         -20.1060, -27.0221, -24.3552, -34.5820, -21.0879, -24.8657, -21.0007,\n",
      "         -25.8141, -30.9334, -39.5000, -25.5539, -27.5887, -24.5406, -29.0932,\n",
      "         -32.5287, -29.7714, -20.0265, -21.3420, -21.1540, -12.4339, -24.6351,\n",
      "         -18.2644, -25.7212, -27.2897, -17.7235, -23.6059, -26.1188, -24.1892,\n",
      "         -31.8123, -32.6390, -23.6117, -10.2254, -31.8560, -29.6620, -25.7090,\n",
      "         -33.3643, -17.1225, -20.4251, -22.4132, -28.1950, -27.0957, -36.7643,\n",
      "         -31.2195, -23.5868, -25.8567, -26.2128, -18.8268, -32.2339, -27.4267,\n",
      "         -31.6404, -18.8998,  -9.8849, -16.2634, -17.1978, -23.9902, -24.7541,\n",
      "         -11.9880, -22.3142, -19.6294, -29.0885,  -7.1468, -28.9491, -25.8704,\n",
      "         -41.6656, -27.3425, -26.0752, -23.1003, -32.9579, -28.4312, -10.9874,\n",
      "         -35.0290, -26.0345, -36.8316, -28.4743, -23.9831, -17.9332, -27.6718,\n",
      "         -14.2912, -22.9750, -10.8346, -29.6817, -18.8043, -18.3473, -31.1490,\n",
      "          -9.9292, -36.0773, -20.7228, -23.8237, -17.2568, -25.8964, -12.6469,\n",
      "         -10.5329, -29.4038, -22.7797, -30.5729, -29.5584, -24.2075, -28.9056,\n",
      "         -30.3704, -21.5270, -24.7970, -30.3802, -19.8932, -12.2908]],\n",
      "       grad_fn=<AddmmBackward>)\n"
     ]
    }
   ],
   "source": [
    "random_seed = 1\n",
    "im = dreamer.createInputImage(random_seed)\n",
    "im = dreamer.prepInputImage(im)\n",
    "im = im.to(dreamer.device)\n",
    "\n",
    "im = Variable(im.unsqueeze(0),requires_grad=True)\n",
    "out = dreamer.net(im)\n",
    "print(out)"
   ]
  },
  {
   "cell_type": "code",
   "execution_count": 7,
   "metadata": {},
   "outputs": [
    {
     "name": "stdout",
     "output_type": "stream",
     "text": [
      "Activation before optimizing : -30.800006866455078 \n",
      "Probablity before optimizing : 0.5821488499641418 and label 261\n",
      "Dreaming...\n",
      "Activation after optimizing : 73.12479400634766 \n",
      "Probablity after optimizing : 1.0 and label 3\n"
     ]
    },
    {
     "data": {
      "image/png": "[encoded data removed]",
      "text/plain": [
       "<Figure size 432x288 with 1 Axes>"
      ]
     },
     "metadata": {
      "needs_background": "light"
     },
     "output_type": "display_data"
    }
   ],
   "source": [
    "loss_type = 1\n",
    "show_dream(dreamer,label,loss_type)"
   ]
  },
  {
   "cell_type": "code",
   "execution_count": 8,
   "metadata": {},
   "outputs": [
    {
     "name": "stdout",
     "output_type": "stream",
     "text": [
      "Activation before optimizing : -30.800006866455078 \n",
      "Probablity before optimizing : 0.5821488499641418 and label 261\n",
      "Dreaming...\n",
      "Activation after optimizing : -159.24591064453125 \n",
      "Probablity after optimizing : 0.9995416402816772 and label 489\n"
     ]
    },
    {
     "data": {
      "image/png": "[encoded data removed]",
      "text/plain": [
       "<Figure size 432x288 with 1 Axes>"
      ]
     },
     "metadata": {
      "needs_background": "light"
     },
     "output_type": "display_data"
    }
   ],
   "source": [
    "loss_type = 2\n",
    "show_dream(dreamer,label,loss_type)"
   ]
  },
  {
   "cell_type": "code",
   "execution_count": null,
   "metadata": {},
   "outputs": [
    {
     "name": "stdout",
     "output_type": "stream",
     "text": [
      "Activation before optimizing : -30.800006866455078 \n",
      "Probablity before optimizing : 0.5821488499641418 and label 261\n",
      "Dreaming...\n"
     ]
    },
    {
     "name": "stderr",
     "output_type": "stream",
     "text": [
      "/mnt/c/Users/User/Desktop/activation_maximization_mjsynth/library/deep_dream.py:109: UserWarning: Implicit dimension choice for softmax has been deprecated. Change the call to include dim=X as an argument.\n",
      "  loss = 1 - F.softmax(out)[0,label]\n"
     ]
    }
   ],
   "source": [
    "loss_type = 3\n",
    "show_dream(dreamer,label,loss_type)"
   ]
  },
  {
   "cell_type": "code",
   "execution_count": null,
   "metadata": {},
   "outputs": [],
   "source": [
    "loss_type = 4\n",
    "show_dream(dreamer,label,loss_type)"
   ]
  },
  {
   "cell_type": "code",
   "execution_count": null,
   "metadata": {},
   "outputs": [],
   "source": [
    "# loss_type = 5\n",
    "# show_dream(dreamer,label,loss_type)"
   ]
  },
  {
   "cell_type": "code",
   "execution_count": null,
   "metadata": {},
   "outputs": [],
   "source": []
  }
 ],
 "metadata": {
  "kernelspec": {
   "display_name": "Python 3",
   "language": "python",
   "name": "python3"
  },
  "language_info": {
   "codemirror_mode": {
    "name": "ipython",
    "version": 3
   },
   "file_extension": ".py",
   "mimetype": "text/x-python",
   "name": "python",
   "nbconvert_exporter": "python",
   "pygments_lexer": "ipython3",
   "version": "3.5.3"
  }
 },
 "nbformat": 4,
 "nbformat_minor": 4
}
