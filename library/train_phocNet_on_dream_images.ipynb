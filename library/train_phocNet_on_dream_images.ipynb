{
 "cells": [
  {
   "cell_type": "code",
   "execution_count": 1,
   "metadata": {},
   "outputs": [],
   "source": [
    "import numpy as np\n",
    "from sklearn.metrics import accuracy_score\n",
    "import torch.autograd\n",
    "import torch.cuda\n",
    "import torch.nn as nn\n",
    "import torch.optim\n",
    "from torch.utils.data import DataLoader\n",
    "from torch.utils.data  import SubsetRandomSampler\n",
    "\n",
    "import copy\n",
    "from phoc_network.phoc_dataset import *\n",
    "from phoc_network import cosine_loss\n",
    "from phoc_network.phoc_net import *\n",
    "from dream_reader import *"
   ]
  },
  {
   "cell_type": "code",
   "execution_count": 6,
   "metadata": {},
   "outputs": [],
   "source": [
    "def evaluate_cnn(dream_reader,output,words):\n",
    "    indices_pred,words_pred = dream_reader.read_from_network_output(output)\n",
    "    indices_target = dream_reader.convert_words_to_indices(words)\n",
    "\n",
    "    acc_score = accuracy_score(indices_target,indices_pred)\n",
    "\n",
    "    return acc_score"
   ]
  },
  {
   "cell_type": "code",
   "execution_count": 9,
   "metadata": {},
   "outputs": [],
   "source": [
    "def train_phocNet_on_dream_dataset(training_data_path,test_data_path,phoc_unigram_levels='1,2,4,8',\n",
    "                                   num_epochs=100,lr=0.0001,batch_size=64,weight_decay=0.000,\n",
    "                                   lex_txt_file = \"../lexicon.txt\",device=torch.device('cpu')):\n",
    "    \n",
    "    train_data_set = PhocDataset(training_data_path)\n",
    "    train_loader = DataLoader(train_data_set,batch_size=batch_size,shuffle=True,num_workers=0)\n",
    "    \n",
    "    test_data_set = PhocDataset(test_data_path)\n",
    "    test_loader = DataLoader(test_data_set,batch_size=batch_size,shuffle=True,num_workers=0)\n",
    "    \n",
    "    with open(lex_txt_file) as f:\n",
    "        lex_list = f.readlines()\n",
    "    lex_list = [word[:-1] for word in lex_list] \n",
    "    dream_reader = DreamReader(lex_list)\n",
    "    \n",
    "    cnn = PHOCNet(n_out=train_data_set[0][1].shape[0],input_channels=1,gpp_type='spp',pooling_levels=4)\n",
    "    cnn.init_weights()\n",
    "    criterion = nn.BCEWithLogitsLoss(size_average=True)\n",
    "    \n",
    "    cnn.to(device)\n",
    "    \n",
    "    optimizer = torch.optim.Adam(cnn.parameters(), lr,\n",
    "                                    weight_decay=weight_decay)\n",
    "    \n",
    "    for epoch in range(num_epochs):\n",
    "        cnn.train()\n",
    "        training_acc_list = []\n",
    "        test_acc_list = []\n",
    "        training_loss_list = []\n",
    "        test_loss_list = []\n",
    "        for i,data in enumerate(train_loader,0):\n",
    "            imgs,embeddings,_,words = data\n",
    "\n",
    "            imgs = imgs.to(device)\n",
    "            embeddings = embeddings.to(device)\n",
    "\n",
    "            optimizer.zero_grad()\n",
    "            outputs = cnn(imgs)\n",
    "\n",
    "            loss = criterion(outputs, embeddings) / batch_size\n",
    "            loss.backward()\n",
    "            optimizer.step()\n",
    "\n",
    "            training_acc = evaluate_cnn(dream_reader,outputs,words)\n",
    "            training_loss_list.append(loss.item())\n",
    "            training_acc_list.append(training_acc)\n",
    "\n",
    "        print(\"Epoch : {}, Training loss: {}, Training accuracy: {}\".format(epoch,sum(training_loss_list)/len(training_loss_list),sum(training_acc_list)/len(training_acc_list)))\n",
    "        #print(\"End of training epoch :\",epoch)\n",
    "        \n",
    "        if epoch % 10 == 9:\n",
    "            cnn.eval()\n",
    "            for i,data in enumerate(test_loader,0):\n",
    "                imgs,embeddings,_,words = data\n",
    "\n",
    "                imgs = imgs.to(device)\n",
    "                embeddings = embeddings.to(device)\n",
    "\n",
    "                outputs = cnn(imgs)\n",
    "                test_loss = criterion(outputs, embeddings) / batch_size\n",
    "                test_acc = evaluate_cnn(dream_reader,outputs,words)\n",
    "                test_loss_list.append(test_loss.item())\n",
    "                test_acc_list.append(test_acc)\n",
    "\n",
    "            print(\"Epoch : {}, Validation loss: {}, Validation accuracy: {}\".format(epoch,sum(test_loss_list)/len(test_loss_list),sum(test_acc_list)/len(test_acc_list)))\n",
    "\n"
   ]
  },
  {
   "cell_type": "code",
   "execution_count": 10,
   "metadata": {},
   "outputs": [
    {
     "name": "stderr",
     "output_type": "stream",
     "text": [
      "100%|██████████| 353/353 [00:00<00:00, 7316.03it/s]\n",
      "100%|██████████| 159/159 [00:00<00:00, 8446.83it/s]\n",
      "100%|██████████| 88172/88172 [00:26<00:00, 3335.20it/s]\n"
     ]
    },
    {
     "name": "stdout",
     "output_type": "stream",
     "text": [
      "Epoch : 0, Training loss: 0.009194845954577128, Training accuracy: 0.0\n"
     ]
    },
    {
     "ename": "KeyboardInterrupt",
     "evalue": "",
     "output_type": "error",
     "traceback": [
      "\u001b[0;31m---------------------------------------------------------------------------\u001b[0m",
      "\u001b[0;31mKeyboardInterrupt\u001b[0m                         Traceback (most recent call last)",
      "\u001b[0;32m<ipython-input-10-3eccf111ce10>\u001b[0m in \u001b[0;36m<module>\u001b[0;34m\u001b[0m\n\u001b[1;32m      3\u001b[0m \u001b[0;34m\u001b[0m\u001b[0m\n\u001b[1;32m      4\u001b[0m train_phocNet_on_dream_dataset(training_data_path,test_data_path,phoc_unigram_levels='1,2,4,8',\n\u001b[0;32m----> 5\u001b[0;31m                                    num_epochs=100,lr=0.0001,batch_size=64)\n\u001b[0m",
      "\u001b[0;32m<ipython-input-9-a885ba20a0aa>\u001b[0m in \u001b[0;36mtrain_phocNet_on_dream_dataset\u001b[0;34m(training_data_path, test_data_path, phoc_unigram_levels, num_epochs, lr, batch_size, weight_decay, lex_txt_file, device)\u001b[0m\n\u001b[1;32m     39\u001b[0m \u001b[0;34m\u001b[0m\u001b[0m\n\u001b[1;32m     40\u001b[0m             \u001b[0mloss\u001b[0m \u001b[0;34m=\u001b[0m \u001b[0mcriterion\u001b[0m\u001b[0;34m(\u001b[0m\u001b[0moutputs\u001b[0m\u001b[0;34m,\u001b[0m \u001b[0membeddings\u001b[0m\u001b[0;34m)\u001b[0m \u001b[0;34m/\u001b[0m \u001b[0mbatch_size\u001b[0m\u001b[0;34m\u001b[0m\u001b[0m\n\u001b[0;32m---> 41\u001b[0;31m             \u001b[0mloss\u001b[0m\u001b[0;34m.\u001b[0m\u001b[0mbackward\u001b[0m\u001b[0;34m(\u001b[0m\u001b[0;34m)\u001b[0m\u001b[0;34m\u001b[0m\u001b[0m\n\u001b[0m\u001b[1;32m     42\u001b[0m             \u001b[0moptimizer\u001b[0m\u001b[0;34m.\u001b[0m\u001b[0mstep\u001b[0m\u001b[0;34m(\u001b[0m\u001b[0;34m)\u001b[0m\u001b[0;34m\u001b[0m\u001b[0m\n\u001b[1;32m     43\u001b[0m \u001b[0;34m\u001b[0m\u001b[0m\n",
      "\u001b[0;32m~/.local/lib/python3.5/site-packages/torch/tensor.py\u001b[0m in \u001b[0;36mbackward\u001b[0;34m(self, gradient, retain_graph, create_graph)\u001b[0m\n\u001b[1;32m    193\u001b[0m                 \u001b[0mproducts\u001b[0m\u001b[0;34m.\u001b[0m \u001b[0mDefaults\u001b[0m \u001b[0mto\u001b[0m\u001b[0;31m \u001b[0m\u001b[0;31m`\u001b[0m\u001b[0;31m`\u001b[0m\u001b[0;32mFalse\u001b[0m\u001b[0;31m`\u001b[0m\u001b[0;31m`\u001b[0m\u001b[0;34m.\u001b[0m\u001b[0;34m\u001b[0m\u001b[0m\n\u001b[1;32m    194\u001b[0m         \"\"\"\n\u001b[0;32m--> 195\u001b[0;31m         \u001b[0mtorch\u001b[0m\u001b[0;34m.\u001b[0m\u001b[0mautograd\u001b[0m\u001b[0;34m.\u001b[0m\u001b[0mbackward\u001b[0m\u001b[0;34m(\u001b[0m\u001b[0mself\u001b[0m\u001b[0;34m,\u001b[0m \u001b[0mgradient\u001b[0m\u001b[0;34m,\u001b[0m \u001b[0mretain_graph\u001b[0m\u001b[0;34m,\u001b[0m \u001b[0mcreate_graph\u001b[0m\u001b[0;34m)\u001b[0m\u001b[0;34m\u001b[0m\u001b[0m\n\u001b[0m\u001b[1;32m    196\u001b[0m \u001b[0;34m\u001b[0m\u001b[0m\n\u001b[1;32m    197\u001b[0m     \u001b[0;32mdef\u001b[0m \u001b[0mregister_hook\u001b[0m\u001b[0;34m(\u001b[0m\u001b[0mself\u001b[0m\u001b[0;34m,\u001b[0m \u001b[0mhook\u001b[0m\u001b[0;34m)\u001b[0m\u001b[0;34m:\u001b[0m\u001b[0;34m\u001b[0m\u001b[0m\n",
      "\u001b[0;32m~/.local/lib/python3.5/site-packages/torch/autograd/__init__.py\u001b[0m in \u001b[0;36mbackward\u001b[0;34m(tensors, grad_tensors, retain_graph, create_graph, grad_variables)\u001b[0m\n\u001b[1;32m     97\u001b[0m     Variable._execution_engine.run_backward(\n\u001b[1;32m     98\u001b[0m         \u001b[0mtensors\u001b[0m\u001b[0;34m,\u001b[0m \u001b[0mgrad_tensors\u001b[0m\u001b[0;34m,\u001b[0m \u001b[0mretain_graph\u001b[0m\u001b[0;34m,\u001b[0m \u001b[0mcreate_graph\u001b[0m\u001b[0;34m,\u001b[0m\u001b[0;34m\u001b[0m\u001b[0m\n\u001b[0;32m---> 99\u001b[0;31m         allow_unreachable=True)  # allow_unreachable flag\n\u001b[0m\u001b[1;32m    100\u001b[0m \u001b[0;34m\u001b[0m\u001b[0m\n\u001b[1;32m    101\u001b[0m \u001b[0;34m\u001b[0m\u001b[0m\n",
      "\u001b[0;31mKeyboardInterrupt\u001b[0m: "
     ]
    }
   ],
   "source": [
    "training_data_path = \"../code/make_dream_dataset_new/train/\"\n",
    "test_data_path = \"../code/make_dream_dataset_new/test/\"\n",
    "\n",
    "train_phocNet_on_dream_dataset(training_data_path,test_data_path,phoc_unigram_levels='1,2,4,8',\n",
    "                                   num_epochs=100,lr=0.0001,batch_size=64)"
   ]
  },
  {
   "cell_type": "code",
   "execution_count": null,
   "metadata": {},
   "outputs": [],
   "source": []
  }
 ],
 "metadata": {
  "kernelspec": {
   "display_name": "Python 3",
   "language": "python",
   "name": "python3"
  },
  "language_info": {
   "codemirror_mode": {
    "name": "ipython",
    "version": 3
   },
   "file_extension": ".py",
   "mimetype": "text/x-python",
   "name": "python",
   "nbconvert_exporter": "python",
   "pygments_lexer": "ipython3",
   "version": "3.5.3"
  }
 },
 "nbformat": 4,
 "nbformat_minor": 4
}
