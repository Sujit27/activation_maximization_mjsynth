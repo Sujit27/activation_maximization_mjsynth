{
 "cells": [
  {
   "cell_type": "code",
   "execution_count": 1,
   "metadata": {},
   "outputs": [],
   "source": [
    "from dict_net import *\n",
    "from deep_dream import *"
   ]
  },
  {
   "cell_type": "code",
   "execution_count": 2,
   "metadata": {},
   "outputs": [],
   "source": [
    "root = '/var/tmp/on63ilaw/mjsynth'\n",
    "img_folder = 'raw'"
   ]
  },
  {
   "cell_type": "code",
   "execution_count": 3,
   "metadata": {},
   "outputs": [],
   "source": [
    "ds = dg.mjsynth.MjSynthWS(root)"
   ]
  },
  {
   "cell_type": "code",
   "execution_count": 4,
   "metadata": {},
   "outputs": [],
   "source": [
    "class AddGaussianNoise(object):\n",
    "    def __init__(self, mean=0., std=1.):\n",
    "        self.std = std\n",
    "        self.mean = mean\n",
    "        \n",
    "    def __call__(self, tensor):\n",
    "        return tensor + torch.randn(tensor.size()) * self.std + self.mean\n",
    "    \n",
    "    def __repr__(self):\n",
    "        return self.__class__.__name__ + '(mean={0}, std={1})'.format(self.mean, self.std)"
   ]
  },
  {
   "cell_type": "code",
   "execution_count": 5,
   "metadata": {},
   "outputs": [],
   "source": [
    "transform1 = dg.mjsynth_gray_pad_jitter_noise\n",
    "# transform2 = transforms.Compose([transforms.ColorJitter(brightness=0.5,contrast=0.5,saturation=0.5,hue=0),\n",
    "#                                  transforms.Grayscale(),transforms.ToTensor(),\n",
    "#                                  transforms.Normalize((0.47,), (0.14,)),\n",
    "#                                  AddGaussianNoise(0,random.uniform(0,0.5))\n",
    "#                                 ])\n"
   ]
  },
  {
   "cell_type": "code",
   "execution_count": 6,
   "metadata": {},
   "outputs": [],
   "source": [
    "# mean_list1 = []\n",
    "# std_list1 = []\n",
    "\n",
    "# mean_list2 = []\n",
    "# std_list2 = []"
   ]
  },
  {
   "cell_type": "code",
   "execution_count": 7,
   "metadata": {},
   "outputs": [],
   "source": [
    "# for i in range(len(ds)): \n",
    "#     img_path = os.path.join(root,img_folder,ds.filenames[i])\n",
    "#     try:\n",
    "#         image = Image.open(img_path)\n",
    "#     except:\n",
    "#         image = Image.fromarray((np.random.random([400,400,3])*255).astype(\"uint8\"))\n",
    "#         print(\"Failed to convert \", img_path)\n",
    "        \n",
    "#     image_tensor1 = transform1(image)\n",
    "#     image_tensor2 = transform2(image)\n",
    "    \n",
    "#     mean_list1.append(torch.flatten(image_tensor1).mean())\n",
    "#     std_list1.append(torch.flatten(image_tensor1).std())\n",
    "    \n",
    "#     mean_list2.append(torch.flatten(image_tensor2).mean())   \n",
    "#     std_list2.append(torch.flatten(image_tensor2).std())"
   ]
  },
  {
   "cell_type": "code",
   "execution_count": 8,
   "metadata": {},
   "outputs": [],
   "source": [
    "# mean_method1 = sum(mean_list1)/len(mean_list1)\n",
    "# std_method1 = sum(std_list1)/len(std_list1) \n",
    "\n",
    "# mean_method2 = sum(mean_list2)/len(mean_list2)\n",
    "# std_method2 = sum(std_list2)/len(std_list2) "
   ]
  },
  {
   "cell_type": "code",
   "execution_count": 9,
   "metadata": {},
   "outputs": [],
   "source": [
    "# print(mean_method1)\n",
    "# print(std_method1)"
   ]
  },
  {
   "cell_type": "code",
   "execution_count": 10,
   "metadata": {},
   "outputs": [],
   "source": [
    "# print(mean_method2)\n",
    "# print(std_method2)"
   ]
  },
  {
   "cell_type": "code",
   "execution_count": 11,
   "metadata": {},
   "outputs": [],
   "source": [
    "# from matplotlib import pyplot as plt"
   ]
  },
  {
   "cell_type": "code",
   "execution_count": 12,
   "metadata": {},
   "outputs": [],
   "source": [
    "# plt.hist(mean_list1,bins=10)"
   ]
  },
  {
   "cell_type": "code",
   "execution_count": 13,
   "metadata": {},
   "outputs": [],
   "source": [
    "# plt.hist(mean_list2,bins=10)"
   ]
  },
  {
   "cell_type": "code",
   "execution_count": 14,
   "metadata": {},
   "outputs": [],
   "source": [
    "# plt.hist(std_list1,bins=10)"
   ]
  },
  {
   "cell_type": "code",
   "execution_count": 15,
   "metadata": {},
   "outputs": [],
   "source": [
    "# plt.hist(std_list2,bins=10)"
   ]
  },
  {
   "cell_type": "code",
   "execution_count": 16,
   "metadata": {},
   "outputs": [],
   "source": [
    "# im_sample = Image.open(os.path.join(root,img_folder,ds.filenames[0]))\n",
    "# im_sample.show()"
   ]
  },
  {
   "cell_type": "code",
   "execution_count": 17,
   "metadata": {},
   "outputs": [],
   "source": [
    "# im_sample1,target = ds[0]\n",
    "# im_sample1 = torch.squeeze(im_sample1)\n",
    "# # mean = float(im_sample1.view(-1).mean())\n",
    "# # std = float(im_sample1.view(-1).std())\n",
    "# im_sample1 = im_sample1 * 0.14 + 0.47\n",
    "# im_sample1 = Image.fromarray((im_sample1.numpy()*255).astype('uint8'),'L')\n",
    "# im_sample1.show()"
   ]
  },
  {
   "cell_type": "code",
   "execution_count": 22,
   "metadata": {},
   "outputs": [],
   "source": [
    "im_sample = Image.open(os.path.join(root,img_folder,ds.filenames[0]))\n",
    "im_sample = transform1(im_sample)\n",
    "# im_sample.shape\n",
    "im_sample = torch.squeeze(im_sample)\n",
    "im_sample = im_sample * 0.14 + 0.47\n",
    "im_sample = Image.fromarray((im_sample.numpy()*255).astype('uint8'),'L')\n",
    "im_sample.show()"
   ]
  },
  {
   "cell_type": "code",
   "execution_count": null,
   "metadata": {},
   "outputs": [],
   "source": []
  },
  {
   "cell_type": "code",
   "execution_count": null,
   "metadata": {},
   "outputs": [],
   "source": []
  }
 ],
 "metadata": {
  "kernelspec": {
   "display_name": "Python 3",
   "language": "python",
   "name": "python3"
  },
  "language_info": {
   "codemirror_mode": {
    "name": "ipython",
    "version": 3
   },
   "file_extension": ".py",
   "mimetype": "text/x-python",
   "name": "python",
   "nbconvert_exporter": "python",
   "pygments_lexer": "ipython3",
   "version": "3.7.6"
  }
 },
 "nbformat": 4,
 "nbformat_minor": 4
}
