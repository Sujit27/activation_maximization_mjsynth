{
 "cells": [
  {
   "cell_type": "code",
   "execution_count": 30,
   "metadata": {},
   "outputs": [],
   "source": [
    "from dict_net import *\n",
    "from deepDream import *"
   ]
  },
  {
   "cell_type": "code",
   "execution_count": 31,
   "metadata": {},
   "outputs": [],
   "source": [
    "root = '/var/tmp/on63ilaw/mjsynth'\n",
    "img_folder = 'raw'"
   ]
  },
  {
   "cell_type": "code",
   "execution_count": 51,
   "metadata": {},
   "outputs": [],
   "source": [
    "ds = dg.mjsynth.MjSynthWS(root)"
   ]
  },
  {
   "cell_type": "code",
   "execution_count": 52,
   "metadata": {},
   "outputs": [],
   "source": [
    "transform1 = dg.mjsynth.mjsynth_gray_pad\n",
    "transform2 = transforms.Compose([transforms.Grayscale(),transforms.ToTensor(),transforms.Normalize((0.47,), (0.14,))])\n"
   ]
  },
  {
   "cell_type": "code",
   "execution_count": 53,
   "metadata": {},
   "outputs": [],
   "source": [
    "mean_list1 = []\n",
    "std_list1 = []\n",
    "\n",
    "mean_list2 = []\n",
    "std_list2 = []"
   ]
  },
  {
   "cell_type": "code",
   "execution_count": 54,
   "metadata": {},
   "outputs": [
    {
     "name": "stdout",
     "output_type": "stream",
     "text": [
      "Failed to convert  /var/tmp/on63ilaw/mjsynth/raw/363_actuating_904.jpg\n"
     ]
    }
   ],
   "source": [
    "for i in range(len(ds)): \n",
    "    img_path = os.path.join(root,img_folder,ds.filenames[i])\n",
    "    try:\n",
    "        image = Image.open(img_path)\n",
    "    except:\n",
    "        image = Image.fromarray((np.random.random([400,400,3])*255).astype(\"uint8\"))\n",
    "        print(\"Failed to convert \", img_path)\n",
    "        \n",
    "    image_tensor1 = transform1(image)\n",
    "    image_tensor2 = transform2(image)\n",
    "    \n",
    "    mean_list1.append(torch.flatten(image_tensor1).mean())\n",
    "    std_list1.append(torch.flatten(image_tensor1).std())\n",
    "    \n",
    "    mean_list2.append(torch.flatten(image_tensor2).mean())   \n",
    "    std_list2.append(torch.flatten(image_tensor2).std())"
   ]
  },
  {
   "cell_type": "code",
   "execution_count": 55,
   "metadata": {},
   "outputs": [],
   "source": [
    "mean_method1 = sum(mean_list1)/len(mean_list1)\n",
    "std_method1 = sum(std_list1)/len(std_list1) \n",
    "\n",
    "mean_method2 = sum(mean_list2)/len(mean_list2)\n",
    "std_method2 = sum(std_list2)/len(std_list2) "
   ]
  },
  {
   "cell_type": "code",
   "execution_count": 56,
   "metadata": {},
   "outputs": [
    {
     "name": "stdout",
     "output_type": "stream",
     "text": [
      "tensor(-3.8887e-05)\n",
      "tensor(1.0000)\n"
     ]
    }
   ],
   "source": [
    "print(mean_method1)\n",
    "print(std_method1)"
   ]
  },
  {
   "cell_type": "code",
   "execution_count": 57,
   "metadata": {},
   "outputs": [
    {
     "name": "stdout",
     "output_type": "stream",
     "text": [
      "tensor(-0.0360)\n",
      "tensor(1.0203)\n"
     ]
    }
   ],
   "source": [
    "print(mean_method2)\n",
    "print(std_method2)"
   ]
  },
  {
   "cell_type": "code",
   "execution_count": 58,
   "metadata": {},
   "outputs": [],
   "source": [
    "from matplotlib import pyplot as plt"
   ]
  },
  {
   "cell_type": "code",
   "execution_count": 59,
   "metadata": {},
   "outputs": [
    {
     "data": {
      "text/plain": [
       "(array([1.0000e+00, 3.0000e+00, 0.0000e+00, 5.0000e+00, 1.6000e+01,\n",
       "        6.5560e+03, 5.5928e+04, 1.0430e+03, 5.0000e+00, 5.0000e+00]),\n",
       " array([-0.1746161 , -0.14718138, -0.11974667, -0.09231196, -0.06487724,\n",
       "        -0.03744252, -0.01000781,  0.01742691,  0.04486162,  0.07229634,\n",
       "         0.09973105], dtype=float32),\n",
       " <a list of 10 Patch objects>)"
      ]
     },
     "execution_count": 59,
     "metadata": {},
     "output_type": "execute_result"
    },
    {
     "data": {
      "image/png": "[encoded data removed]",
      "text/plain": [
       "<Figure size 432x288 with 1 Axes>"
      ]
     },
     "metadata": {
      "needs_background": "light"
     },
     "output_type": "display_data"
    }
   ],
   "source": [
    "plt.hist(mean_list1,bins=10)"
   ]
  },
  {
   "cell_type": "code",
   "execution_count": 60,
   "metadata": {},
   "outputs": [
    {
     "data": {
      "text/plain": [
       "(array([ 2169.,  5593.,  8016.,  9821., 10684.,  9430.,  7543.,  5558.,\n",
       "         3661.,  1087.]),\n",
       " array([-3.3001277 , -2.5995083 , -1.8988888 , -1.1982694 , -0.4976499 ,\n",
       "         0.20296955,  0.903589  ,  1.6042085 ,  2.304828  ,  3.0054474 ,\n",
       "         3.7060668 ], dtype=float32),\n",
       " <a list of 10 Patch objects>)"
      ]
     },
     "execution_count": 60,
     "metadata": {},
     "output_type": "execute_result"
    },
    {
     "data": {
      "image/png": "[encoded data removed]",
      "text/plain": [
       "<Figure size 432x288 with 1 Axes>"
      ]
     },
     "metadata": {
      "needs_background": "light"
     },
     "output_type": "display_data"
    }
   ],
   "source": [
    "plt.hist(mean_list2,bins=10)"
   ]
  },
  {
   "cell_type": "code",
   "execution_count": 61,
   "metadata": {},
   "outputs": [
    {
     "data": {
      "text/plain": [
       "(array([3.0000e+00, 2.7000e+01, 6.3519e+04, 1.0000e+01, 2.0000e+00,\n",
       "        0.0000e+00, 0.0000e+00, 0.0000e+00, 0.0000e+00, 1.0000e+00]),\n",
       " array([0.8856334 , 0.9321044 , 0.97857535, 1.0250463 , 1.0715173 ,\n",
       "        1.1179883 , 1.1644593 , 1.2109302 , 1.2574012 , 1.3038722 ,\n",
       "        1.3503432 ], dtype=float32),\n",
       " <a list of 10 Patch objects>)"
      ]
     },
     "execution_count": 61,
     "metadata": {},
     "output_type": "execute_result"
    },
    {
     "data": {
      "image/png": "[encoded data removed]",
      "text/plain": [
       "<Figure size 432x288 with 1 Axes>"
      ]
     },
     "metadata": {
      "needs_background": "light"
     },
     "output_type": "display_data"
    }
   ],
   "source": [
    "plt.hist(std_list1,bins=10)"
   ]
  },
  {
   "cell_type": "code",
   "execution_count": 62,
   "metadata": {},
   "outputs": [
    {
     "data": {
      "text/plain": [
       "(array([ 7246., 15519., 14324., 10725.,  7391.,  4388.,  2345.,  1098.,\n",
       "          450.,    76.]),\n",
       " array([0.06620359, 0.39242303, 0.7186425 , 1.0448619 , 1.3710814 ,\n",
       "        1.6973008 , 2.0235202 , 2.3497396 , 2.675959  , 3.0021787 ,\n",
       "        3.328398  ], dtype=float32),\n",
       " <a list of 10 Patch objects>)"
      ]
     },
     "execution_count": 62,
     "metadata": {},
     "output_type": "execute_result"
    },
    {
     "data": {
      "image/png": "[encoded data removed]",
      "text/plain": [
       "<Figure size 432x288 with 1 Axes>"
      ]
     },
     "metadata": {
      "needs_background": "light"
     },
     "output_type": "display_data"
    }
   ],
   "source": [
    "plt.hist(std_list2,bins=10)"
   ]
  },
  {
   "cell_type": "code",
   "execution_count": 63,
   "metadata": {},
   "outputs": [],
   "source": [
    "im_sample = Image.open(os.path.join(root,img_folder,ds.filenames[0]))\n",
    "im_sample.show()"
   ]
  },
  {
   "cell_type": "code",
   "execution_count": 67,
   "metadata": {},
   "outputs": [],
   "source": [
    "im_sample1,target = ds[0]\n",
    "im_sample1 = torch.squeeze(im_sample1)\n",
    "im_sample1 = im_sample1 * 0.14 + 0.47\n",
    "im_sample1 = Image.fromarray((im_sample1.numpy()*255).astype('uint8'),'L')\n",
    "im_sample1.show()"
   ]
  },
  {
   "cell_type": "code",
   "execution_count": 66,
   "metadata": {},
   "outputs": [],
   "source": [
    "im_sample2 = Image.open(os.path.join(root,img_folder,ds.filenames[0]))\n",
    "im_sample2 = transform2(im_sample2)\n",
    "# im_sample2.shape\n",
    "im_sample2 = torch.squeeze(im_sample2)\n",
    "im_sample2 = im_sample2 * 0.14 + 0.47\n",
    "im_sample2 = Image.fromarray((im_sample2.numpy()*255).astype('uint8'),'L')\n",
    "im_sample2.show()"
   ]
  },
  {
   "cell_type": "code",
   "execution_count": null,
   "metadata": {},
   "outputs": [],
   "source": []
  },
  {
   "cell_type": "code",
   "execution_count": null,
   "metadata": {},
   "outputs": [],
   "source": []
  }
 ],
 "metadata": {
  "kernelspec": {
   "display_name": "Python 3",
   "language": "python",
   "name": "python3"
  },
  "language_info": {
   "codemirror_mode": {
    "name": "ipython",
    "version": 3
   },
   "file_extension": ".py",
   "mimetype": "text/x-python",
   "name": "python",
   "nbconvert_exporter": "python",
   "pygments_lexer": "ipython3",
   "version": "3.7.6"
  }
 },
 "nbformat": 4,
 "nbformat_minor": 4
}
