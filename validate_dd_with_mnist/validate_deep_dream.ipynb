{
 "cells": [
  {
   "cell_type": "code",
   "execution_count": 260,
   "metadata": {},
   "outputs": [],
   "source": [
    "import torch\n",
    "import torch.nn as nn\n",
    "from torch.autograd import Variable\n",
    "from torchvision import models\n",
    "from torchvision import transforms, utils\n",
    "import numpy as np\n",
    "import matplotlib.pyplot as plt\n",
    "from PIL import Image, ImageFilter, ImageChops\n",
    "from torch.nn import functional as F\n",
    "from torch.utils.model_zoo import load_url as load_state_dict_from_url\n",
    "import scipy\n",
    "import scipy.misc\n",
    "from scipy import ndimage\n",
    "import math\n",
    "import os\n",
    "import random"
   ]
  },
  {
   "cell_type": "code",
   "execution_count": 261,
   "metadata": {},
   "outputs": [],
   "source": [
    "class Net(nn.Module):\n",
    "    def __init__(self):\n",
    "        super(Net, self).__init__()\n",
    "        self.conv1 = nn.Conv2d(1, 10, kernel_size=5)\n",
    "        self.conv2 = nn.Conv2d(10, 20, kernel_size=5)\n",
    "        self.conv2_drop = nn.Dropout2d()\n",
    "        self.fc1 = nn.Linear(320, 50)\n",
    "        self.fc2 = nn.Linear(50, 10)\n",
    "\n",
    "    def forward(self, x):\n",
    "        x = F.relu(F.max_pool2d(self.conv1(x), 2))\n",
    "        x = F.relu(F.max_pool2d(self.conv2_drop(self.conv2(x)), 2))\n",
    "        x = x.view(-1, 320)\n",
    "        x = F.relu(self.fc1(x))\n",
    "        x = F.dropout(x, training=self.training)\n",
    "        x = self.fc2(x)\n",
    "        return F.log_softmax(x)"
   ]
  },
  {
   "cell_type": "code",
   "execution_count": 262,
   "metadata": {},
   "outputs": [],
   "source": [
    "network = Net()"
   ]
  },
  {
   "cell_type": "code",
   "execution_count": 263,
   "metadata": {},
   "outputs": [
    {
     "data": {
      "text/plain": [
       "<All keys matched successfully>"
      ]
     },
     "execution_count": 263,
     "metadata": {},
     "output_type": "execute_result"
    }
   ],
   "source": [
    "network.load_state_dict(torch.load('mnist.pth'))"
   ]
  },
  {
   "cell_type": "code",
   "execution_count": 264,
   "metadata": {},
   "outputs": [
    {
     "data": {
      "text/plain": [
       "Net(\n",
       "  (conv1): Conv2d(1, 10, kernel_size=(5, 5), stride=(1, 1))\n",
       "  (conv2): Conv2d(10, 20, kernel_size=(5, 5), stride=(1, 1))\n",
       "  (conv2_drop): Dropout2d(p=0.5, inplace=False)\n",
       "  (fc1): Linear(in_features=320, out_features=50, bias=True)\n",
       "  (fc2): Linear(in_features=50, out_features=10, bias=True)\n",
       ")"
      ]
     },
     "execution_count": 264,
     "metadata": {},
     "output_type": "execute_result"
    }
   ],
   "source": [
    "network"
   ]
  },
  {
   "cell_type": "code",
   "execution_count": 265,
   "metadata": {},
   "outputs": [],
   "source": [
    "\n",
    "class DeepDream():\n",
    "    '''\n",
    "    Given a network, input size to the network and channel wise mean,std of the data it was trained on,\n",
    "    label specific 'deep dream' images can be created\n",
    "\n",
    "    '''\n",
    "\n",
    "    def __init__(self,net,input_size,data_mean=None,data_std=None,use_gaussian_filter=False):\n",
    "        self.device = None\n",
    "        self.net = net\n",
    "        self.input_size = input_size\n",
    "        self.data_mean = data_mean\n",
    "        self.data_std = data_std\n",
    "        self.input_2d = False\n",
    "        self.input_3d = False\n",
    "        self.ouputImage = None\n",
    "        self.use_gaussian_filter = use_gaussian_filter\n",
    "        # list variables used in randomDream method\n",
    "        self.labels = [i for i in range(1000)]\n",
    "        # set methods\n",
    "        self.setDevice()\n",
    "        self.setNetwork()\n",
    "        self.check_input()\n",
    "        if self.use_gaussian_filter == True:\n",
    "            print(\"Gaussian filter will be used\")\n",
    "            self.gaussian_filter = None\n",
    "            self.setGaussianFilter()\n",
    "\n",
    "    def setDevice(self):\n",
    "        self.device = torch.device(\"cuda\" if torch.cuda.is_available() else \"cpu\")\n",
    "        print(\"Device used to run this program: \",self.device)\n",
    "\n",
    "\n",
    "    def setNetwork(self):\n",
    "        print(\"Loading the network...\")\n",
    "        \n",
    "        self.net.eval() # inference mode\n",
    "\n",
    "        self.net.to(self.device)\n",
    "        print(\"Network Loaded\")\n",
    "        \n",
    "    def check_input(self):\n",
    "        assert len(self.input_size) == 3\n",
    "        if self.input_size[0] == 1: self.input_2d = True\n",
    "        else: self.input_3d = True\n",
    "        if self.input_2d:   \n",
    "            if self.data_mean is None: \n",
    "                self.data_mean = 0.5\n",
    "                print(\"Data means set at 0.5 by default\")\n",
    "            if self.data_std is None: \n",
    "                self.data_std = 0.5\n",
    "                print(\"Data standard deviation set at 0.5 by default\")\n",
    "\n",
    "\n",
    "    def __call__(self,im=None,label=0,nItr=100,lr=0.1):\n",
    "        \"\"\"Does activation maximization on a specific label for specified iterations,\n",
    "           acts like a functor, and returns an image tensor\n",
    "        \"\"\"\n",
    "\n",
    "        if im is None:\n",
    "            im = self.createInputImage()\n",
    "            im = self.prepInputImage(im)\n",
    "            im = im.to(self.device)\n",
    "\n",
    "            im = Variable(im.unsqueeze(0),requires_grad=True)\n",
    "\n",
    "        softmaxed_activation = F.softmax(self.net(im),dim=1)\n",
    "        val,index = softmaxed_activation.max(1)\n",
    "        print(\"Probablity before optimizing : {} and label {}\".format(val[0],index[0]))\n",
    "        print(\"Dreaming...\")\n",
    "\n",
    "        for i in range(nItr):\n",
    "\n",
    "            out = self.net(im)\n",
    "            #loss = -out[0,label]\n",
    "            loss = out[0,label]\n",
    "            loss.backward()\n",
    "\n",
    "            avg_grad = np.abs(im.grad.data.cpu().numpy()).mean()\n",
    "            norm_lr = lr / (avg_grad + 1e-20)\n",
    "            im.data += norm_lr * im.grad.data\n",
    "            im.data = torch.clamp(im.data,-1,1)\n",
    "            \n",
    "            if self.use_gaussian_filter == True:\n",
    "                im.data = self.gaussian_filter(im.data)\n",
    "\n",
    "            im.grad.data.zero_()\n",
    "        \n",
    "        softmaxed_activation = F.softmax(self.net(im),dim=1)\n",
    "        val,index = softmaxed_activation.max(1)\n",
    "        print(\"Probablity after optimizing : {} and label {}\".format(val[0],index[0]))\n",
    "\n",
    "        return im\n",
    "\n",
    "    def randomDream(self,im=None,randomSeed=0):\n",
    "        \"\"\"Does activation maximization on a random label for randomly chosen learning rate,number of iterations and gaussian filter size, and returns an image tensor\n",
    "        \"\"\"\n",
    "        random.seed(randomSeed)\n",
    "        rand_nItr = np.asscalar(np.random.normal(500,40,1).astype(int))\n",
    "        rand_lr = np.asscalar(np.random.normal(0.12,0.01,1))\n",
    "        rand_label = random.choice(self.labels)\n",
    "        if self.use_gaussian_filter == True:\n",
    "            rand_sigma = np.asscalar(np.random.normal(0.45,0.05,1))\n",
    "            self.setGaussianFilter(sigma=rand_sigma)\n",
    "\n",
    "        im = self.__call__(im,label=rand_label,nItr=rand_nItr,lr=rand_lr)\n",
    "\n",
    "        return im\n",
    "\n",
    "\n",
    "    def createInputImage(self):\n",
    "        if self.input_2d:\n",
    "            input_size = (self.input_size[1],self.input_size[2])\n",
    "            zeroImage_np = np.ones(input_size)*127\n",
    "            zeroImage = Image.fromarray((zeroImage_np).astype('uint8'),'L')\n",
    "\n",
    "        return zeroImage\n",
    "\n",
    "    def prepInputImage(self,inputImage):\n",
    "        if self.input_2d:\n",
    "            if (self.data_mean is not None) and (self.data_std is not None):\n",
    "                preprocess = transforms.Compose([\n",
    "                transforms.Grayscale(),\n",
    "                transforms.ToTensor(),\n",
    "                transforms.Normalize(self.data_mean,self.data_std),\n",
    "                ])\n",
    "\n",
    "        return preprocess(inputImage)\n",
    "\n",
    "    def postProcess(self,image):\n",
    "        image_tensor = torch.squeeze(image.data) # remove the batch dimension\n",
    "        if self.input_2d:\n",
    "    #        image_tensor.transpose_(0,1) # convert from CxHxW to HxWxC format\n",
    "    #        image_tensor.transpose_(1,2)\n",
    "            image_tensor = image_tensor*self.data_std[0] + self.data_mean[0] # std and mean for mjsynth \n",
    "\n",
    "            image_tensor = image_tensor.cpu() # back to host\n",
    "\n",
    "            img = Image.fromarray((image_tensor.data.numpy()*255).astype('uint8'), 'L') #torch tensor to PIL image_tensor\n",
    "\n",
    "        return img\n",
    "\n",
    "    def show(self,img):\n",
    "#         plt.figure(num=1, figsize=(12, 8), dpi=120, facecolor='w', edgecolor='k')\n",
    "        plt.imshow(img,'gray')\n",
    "\n",
    "    def save(self,image,fileName):\n",
    "        #image = image.resize((32,256), Image.ANTIALIAS)\n",
    "        image.save(fileName,'PNG')\n",
    "        print('{} saved'.format(fileName))\n",
    "\n",
    "    def setGaussianFilter(self,kernelSize=3,sigma=0.5):\n",
    "        if self.input_2d:\n",
    "            # Create a x, y coordinate grid of shape (kernelSize, kernelSize, 2)\n",
    "            x_cord = torch.arange(kernelSize)\n",
    "            x_grid = x_cord.repeat(kernelSize).view(kernelSize, kernelSize)\n",
    "            y_grid = x_grid.t()\n",
    "            xy_grid = torch.stack([x_grid, y_grid], dim=-1)\n",
    "            xy_grid = xy_grid.float()\n",
    "\n",
    "            mean = (kernelSize - 1)/2.\n",
    "            variance = sigma**2.\n",
    "\n",
    "\n",
    "            # Calculate the 2-dimensional gaussian kernel which is\n",
    "            # the product of two gaussian distributions for two different\n",
    "            # variables (in this case called x and y)\n",
    "            gaussian_kernel = (1./(2.*math.pi*variance)) * torch.exp(-torch.sum((xy_grid - mean)**2., dim=-1) /(2*variance))\n",
    "            # Make sure sum of values in gaussian kernel equals 1.\n",
    "            gaussian_kernel = gaussian_kernel / torch.sum(gaussian_kernel)\n",
    "\n",
    "            # Reshape to 2d depthwise convolutional weight\n",
    "            gaussian_kernel = gaussian_kernel.view(1, 1, kernelSize, kernelSize)\n",
    "#             gaussian_kernel = gaussian_kernel.repeat(3, 1, 1, 1)\n",
    "\n",
    "            pad = math.floor(kernelSize/2)\n",
    "\n",
    "            gauss_filter = nn.Conv2d(in_channels=1, out_channels=1,padding=pad,\n",
    "                                kernel_size=kernelSize, groups=1, bias=False)\n",
    "\n",
    "            gauss_filter.weight.data = gaussian_kernel\n",
    "            gauss_filter.weight.requires_grad = False\n",
    "            self.gaussian_filter = gauss_filter.to(self.device)\n",
    "            #print(\"gaussian_filter created\")\n"
   ]
  },
  {
   "cell_type": "code",
   "execution_count": 266,
   "metadata": {},
   "outputs": [
    {
     "name": "stdout",
     "output_type": "stream",
     "text": [
      "Device used to run this program:  cpu\n",
      "Loading the network...\n",
      "Network Loaded\n",
      "Gaussian filter will be used\n"
     ]
    }
   ],
   "source": [
    "dreamer = DeepDream(network,(1,28,28),(0.13,),(0.31,),use_gaussian_filter=True)"
   ]
  },
  {
   "cell_type": "code",
   "execution_count": 275,
   "metadata": {},
   "outputs": [
    {
     "data": {
      "text/plain": [
       "0.13"
      ]
     },
     "execution_count": 275,
     "metadata": {},
     "output_type": "execute_result"
    }
   ],
   "source": [
    "dreamer.data_mean[0]"
   ]
  },
  {
   "cell_type": "code",
   "execution_count": 276,
   "metadata": {},
   "outputs": [
    {
     "name": "stderr",
     "output_type": "stream",
     "text": [
      "/home/elias/.local/lib/python3.5/site-packages/ipykernel_launcher.py:17: UserWarning: Implicit dimension choice for log_softmax has been deprecated. Change the call to include dim=X as an argument.\n"
     ]
    },
    {
     "name": "stdout",
     "output_type": "stream",
     "text": [
      "Probablity before optimizing : 0.13195645809173584 and label 8\n",
      "Dreaming...\n",
      "Probablity after optimizing : 0.9916484355926514 and label 9\n"
     ]
    }
   ],
   "source": [
    "dream = dreamer(label=9,nItr=500)"
   ]
  },
  {
   "cell_type": "code",
   "execution_count": 277,
   "metadata": {},
   "outputs": [],
   "source": [
    "output = dreamer.postProcess(dream)"
   ]
  },
  {
   "cell_type": "code",
   "execution_count": 278,
   "metadata": {},
   "outputs": [
    {
     "data": {
      "image/png": "[encoded data removed]",
      "text/plain": [
       "<Figure size 432x288 with 1 Axes>"
      ]
     },
     "metadata": {
      "needs_background": "light"
     },
     "output_type": "display_data"
    }
   ],
   "source": [
    "dreamer.show(output)"
   ]
  },
  {
   "cell_type": "code",
   "execution_count": null,
   "metadata": {},
   "outputs": [],
   "source": []
  }
 ],
 "metadata": {
  "kernelspec": {
   "display_name": "Python 3",
   "language": "python",
   "name": "python3"
  },
  "language_info": {
   "codemirror_mode": {
    "name": "ipython",
    "version": 3
   },
   "file_extension": ".py",
   "mimetype": "text/x-python",
   "name": "python",
   "nbconvert_exporter": "python",
   "pygments_lexer": "ipython3",
   "version": "3.5.3"
  }
 },
 "nbformat": 4,
 "nbformat_minor": 4
}
